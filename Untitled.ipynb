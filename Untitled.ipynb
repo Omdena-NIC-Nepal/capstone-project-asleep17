{
 "cells": [
  {
   "cell_type": "code",
   "execution_count": 1,
   "id": "7157cc37-d7d7-470f-b23e-0804b7c96fbf",
   "metadata": {},
   "outputs": [],
   "source": [
    "import pandas as pd\n",
    "import numpy as np\n"
   ]
  },
  {
   "cell_type": "code",
   "execution_count": 7,
   "id": "f4738b5d-1076-4c97-bcf2-606b0ed9c522",
   "metadata": {},
   "outputs": [],
   "source": [
    "# Import necessary libraries\n",
    "import pandas as pd\n",
    "import numpy as np\n",
    "\n",
    "# 1. Load glacier and river data\n",
    "glacier_data = pd.read_csv('raw/glacier_and_river_data/glaciers-glacial-lakes-and-major-river-basins.csv')\n",
    "river_data = pd.read_csv('raw/glacier_and_river_data/major-rivers-in-nepal.csv')"
   ]
  },
  {
   "cell_type": "code",
   "execution_count": 9,
   "id": "7f2bb625-0f51-4422-acef-25f7c7f17e55",
   "metadata": {},
   "outputs": [
    {
     "name": "stdout",
     "output_type": "stream",
     "text": [
      "     Basins Hydrological Feature Number Area(sq. km)\n",
      "0     Koshi             Glaciers    845        1,103\n",
      "1   Gandaki             Glaciers  1,340        1,665\n",
      "2   Karnali             Glaciers  1,459        1,023\n",
      "3  Mahakali             Glaciers    164        112.5\n",
      "4     Koshi        Glacial Lakes    599           26\n"
     ]
    }
   ],
   "source": [
    "print(glacier_data.head())"
   ]
  },
  {
   "cell_type": "code",
   "execution_count": 10,
   "id": "1b94dbc9-5b00-4d01-975b-acdb787a4ed2",
   "metadata": {},
   "outputs": [
    {
     "name": "stdout",
     "output_type": "stream",
     "text": [
      "     Basins Hydrological Feature  Number  Area(sq. km)\n",
      "0     Koshi             Glaciers   845.0        1103.0\n",
      "1   Gandaki             Glaciers  1340.0        1665.0\n",
      "2   Karnali             Glaciers  1459.0        1023.0\n",
      "3  Mahakali             Glaciers   164.0         112.5\n",
      "4     Koshi        Glacial Lakes   599.0          26.0\n"
     ]
    }
   ],
   "source": [
    "glacier_data['Number'] = glacier_data['Number'].replace({',': ''}, regex=True).astype(float)\n",
    "glacier_data['Area(sq. km)'] = glacier_data['Area(sq. km)'].replace({',': ''}, regex=True).astype(float)\n",
    "\n",
    "# Check the cleaned data\n",
    "print(glacier_data.head())"
   ]
  },
  {
   "cell_type": "code",
   "execution_count": 20,
   "id": "ebcbdd4a-e4df-4fd4-a801-7e6d0601c9a5",
   "metadata": {},
   "outputs": [
    {
     "name": "stdout",
     "output_type": "stream",
     "text": [
      "Basins                  0\n",
      "Hydrological Feature    0\n",
      "Number                  0\n",
      "Area(sq. km)            0\n",
      "dtype: int64\n",
      "Basins                   object\n",
      "Hydrological Feature     object\n",
      "Number                  float64\n",
      "Area(sq. km)            float64\n",
      "dtype: object\n",
      "River               object\n",
      "Length(km)         float64\n",
      "River Attribute     object\n",
      "Value               object\n",
      "dtype: object\n"
     ]
    }
   ],
   "source": [
    "# Check for any null values after the conversion\n",
    "print(glacier_data.isnull().sum())\n",
    "\n",
    "# Check data types for consistency\n",
    "print(glacier_data.dtypes)\n",
    "print(river_data.dtypes)"
   ]
  },
  {
   "cell_type": "code",
   "execution_count": 13,
   "id": "4322485d-2c56-4f70-8874-60b615ecbfaf",
   "metadata": {},
   "outputs": [],
   "source": []
  },
  {
   "cell_type": "code",
   "execution_count": null,
   "id": "f9fb3e3b-8666-4c17-b65f-bcde97c110f7",
   "metadata": {},
   "outputs": [],
   "source": []
  }
 ],
 "metadata": {
  "kernelspec": {
   "display_name": "Python 3 (ipykernel)",
   "language": "python",
   "name": "python3"
  },
  "language_info": {
   "codemirror_mode": {
    "name": "ipython",
    "version": 3
   },
   "file_extension": ".py",
   "mimetype": "text/x-python",
   "name": "python",
   "nbconvert_exporter": "python",
   "pygments_lexer": "ipython3",
   "version": "3.11.5"
  }
 },
 "nbformat": 4,
 "nbformat_minor": 5
}
