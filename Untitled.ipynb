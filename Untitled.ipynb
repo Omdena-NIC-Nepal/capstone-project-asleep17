{
 "cells": [
  {
   "cell_type": "code",
   "execution_count": 8,
   "id": "9688068f-c8d9-4405-bc92-ff49f80e5868",
   "metadata": {},
   "outputs": [
    {
     "name": "stdout",
     "output_type": "stream",
     "text": [
      "Index(['Unnamed: 0', 'Date', 'District', 'Latitude', 'Longitude', 'Precip',\n",
      "       'Pressure', 'Humidity_2m', 'RH_2m', 'Temp_2m', 'WetBulbTemp_2m',\n",
      "       'MaxTemp_2m', 'MinTemp_2m', 'TempRange_2m', 'EarthSkinTemp',\n",
      "       'WindSpeed_10m', 'MaxWindSpeed_10m', 'MinWindSpeed_10m',\n",
      "       'WindSpeedRange_10m', 'WindSpeed_50m', 'MaxWindSpeed_50m',\n",
      "       'MinWindSpeed_50m', 'WindSpeedRange_50m', 'Climate_Zone'],\n",
      "      dtype='object')\n"
     ]
    }
   ],
   "source": [
    "import pandas as pd\n",
    "df = pd.read_csv(\"climate_daily_cleaned.csv\")\n",
    "\n",
    "# Adding the 'Climate_Zone' classification logic here\n",
    "def classify_climate(row):\n",
    "    if row['Temp_2m'] > 30 and row['Precip'] > 100:\n",
    "        return 'Tropical'\n",
    "    elif row['Temp_2m'] > 15 and row['Precip'] > 50:\n",
    "        return 'Temperate'\n",
    "    else:\n",
    "        return 'Cold'\n",
    "\n",
    "# Apply the function to create the 'Climate_Zone' column\n",
    "df['Climate_Zone'] = df.apply(classify_climate, axis=1)\n",
    "\n",
    "print(df.columns)"
   ]
  },
  {
   "cell_type": "code",
   "execution_count": 12,
   "id": "5d89e56a-0ff6-4e3a-a70f-9516c007a3c1",
   "metadata": {},
   "outputs": [
    {
     "name": "stdout",
     "output_type": "stream",
     "text": [
      "Index(['Unnamed: 0', 'Date', 'District', 'Latitude', 'Longitude', 'Precip',\n",
      "       'Pressure', 'Humidity_2m', 'RH_2m', 'Temp_2m', 'WetBulbTemp_2m',\n",
      "       'MaxTemp_2m', 'MinTemp_2m', 'TempRange_2m', 'EarthSkinTemp',\n",
      "       'WindSpeed_10m', 'MaxWindSpeed_10m', 'MinWindSpeed_10m',\n",
      "       'WindSpeedRange_10m', 'WindSpeed_50m', 'MaxWindSpeed_50m',\n",
      "       'MinWindSpeed_50m', 'WindSpeedRange_50m', 'Climate_Zone'],\n",
      "      dtype='object')\n"
     ]
    }
   ],
   "source": [
    "def classify_climate(row):\n",
    "    if row['Temp_2m'] > 20 and row['Precip'] > 10:  # Tropical conditions\n",
    "        return 'Tropical'\n",
    "    elif row['Temp_2m'] > 15 and row['Precip'] > 3:  # Temperate conditions\n",
    "        return 'Temperate'\n",
    "    else:\n",
    "        return 'Cold'  # Cold conditions\n",
    "\n",
    "# Apply the function to create the 'Climate_Zone' column\n",
    "df['Climate_Zone'] = df.apply(classify_climate, axis=1)\n",
    "\n",
    "# Check the results\n",
    "print(df.columns)\n",
    "\n"
   ]
  },
  {
   "cell_type": "code",
   "execution_count": null,
   "id": "1d59d9bf-886e-457c-8978-c02c305180f7",
   "metadata": {},
   "outputs": [],
   "source": []
  }
 ],
 "metadata": {
  "kernelspec": {
   "display_name": "Python 3 (ipykernel)",
   "language": "python",
   "name": "python3"
  },
  "language_info": {
   "codemirror_mode": {
    "name": "ipython",
    "version": 3
   },
   "file_extension": ".py",
   "mimetype": "text/x-python",
   "name": "python",
   "nbconvert_exporter": "python",
   "pygments_lexer": "ipython3",
   "version": "3.11.5"
  }
 },
 "nbformat": 4,
 "nbformat_minor": 5
}
