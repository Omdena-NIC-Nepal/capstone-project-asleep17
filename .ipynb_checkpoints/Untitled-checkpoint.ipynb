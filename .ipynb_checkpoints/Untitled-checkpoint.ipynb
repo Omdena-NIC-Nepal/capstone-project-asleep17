{
 "cells": [
  {
   "cell_type": "code",
   "execution_count": 8,
   "id": "9688068f-c8d9-4405-bc92-ff49f80e5868",
   "metadata": {},
   "outputs": [
    {
     "name": "stdout",
     "output_type": "stream",
     "text": [
      "Index(['Unnamed: 0', 'Date', 'District', 'Latitude', 'Longitude', 'Precip',\n",
      "       'Pressure', 'Humidity_2m', 'RH_2m', 'Temp_2m', 'WetBulbTemp_2m',\n",
      "       'MaxTemp_2m', 'MinTemp_2m', 'TempRange_2m', 'EarthSkinTemp',\n",
      "       'WindSpeed_10m', 'MaxWindSpeed_10m', 'MinWindSpeed_10m',\n",
      "       'WindSpeedRange_10m', 'WindSpeed_50m', 'MaxWindSpeed_50m',\n",
      "       'MinWindSpeed_50m', 'WindSpeedRange_50m', 'Climate_Zone'],\n",
      "      dtype='object')\n"
     ]
    }
   ],
   "source": [
    "import pandas as pd\n",
    "df = pd.read_csv(\"climate_daily_cleaned.csv\")\n",
    "\n",
    "# Adding the 'Climate_Zone' classification logic here\n",
    "def classify_climate(row):\n",
    "    if row['Temp_2m'] > 30 and row['Precip'] > 100:\n",
    "        return 'Tropical'\n",
    "    elif row['Temp_2m'] > 15 and row['Precip'] > 50:\n",
    "        return 'Temperate'\n",
    "    else:\n",
    "        return 'Cold'\n",
    "\n",
    "# Apply the function to create the 'Climate_Zone' column\n",
    "df['Climate_Zone'] = df.apply(classify_climate, axis=1)\n",
    "\n",
    "print(df.columns)"
   ]
  },
  {
   "cell_type": "code",
   "execution_count": 11,
   "id": "5d89e56a-0ff6-4e3a-a70f-9516c007a3c1",
   "metadata": {},
   "outputs": [
    {
     "name": "stdout",
     "output_type": "stream",
     "text": [
      "          Date  Temp_2m  Precip Climate_Zone\n",
      "0   1981-01-01    13.89    0.00         Cold\n",
      "1   1981-01-02    13.84    0.00         Cold\n",
      "2   1981-01-03    14.33    0.03         Cold\n",
      "3   1981-01-04    13.82    0.02         Cold\n",
      "4   1981-01-05    13.76    1.84         Cold\n",
      "5   1981-01-06    13.24    2.41         Cold\n",
      "6   1981-01-07    12.02    2.20         Cold\n",
      "7   1981-01-08    11.21    1.09         Cold\n",
      "8   1981-01-09    11.26    0.04         Cold\n",
      "9   1981-01-10    11.77    0.00         Cold\n",
      "10  1981-01-11    11.12    0.00         Cold\n",
      "11  1981-01-12    10.58    3.12         Cold\n",
      "12  1981-01-13    10.51    9.05         Cold\n",
      "13  1981-01-14    12.38    0.10         Cold\n",
      "14  1981-01-15    12.93    0.00         Cold\n",
      "15  1981-01-16    14.03    0.00         Cold\n",
      "16  1981-01-17    15.17    4.38    Temperate\n",
      "17  1981-01-18    14.31    0.24         Cold\n",
      "18  1981-01-19    13.55    0.00         Cold\n",
      "19  1981-01-20    13.72    0.00         Cold\n"
     ]
    }
   ],
   "source": [
    "def classify_climate(row):\n",
    "    if row['Temp_2m'] > 20 and row['Precip'] > 10:  # Tropical conditions\n",
    "        return 'Tropical'\n",
    "    elif row['Temp_2m'] > 15 and row['Precip'] > 3:  # Temperate conditions\n",
    "        return 'Temperate'\n",
    "    else:\n",
    "        return 'Cold'  # Cold conditions\n",
    "\n",
    "# Apply the function to create the 'Climate_Zone' column\n",
    "df['Climate_Zone'] = df.apply(classify_climate, axis=1)\n",
    "\n",
    "# Check the results\n",
    "print(df.columns)\n",
    "\n"
   ]
  },
  {
   "cell_type": "code",
   "execution_count": null,
   "id": "1d59d9bf-886e-457c-8978-c02c305180f7",
   "metadata": {},
   "outputs": [],
   "source": []
  }
 ],
 "metadata": {
  "kernelspec": {
   "display_name": "Python 3 (ipykernel)",
   "language": "python",
   "name": "python3"
  },
  "language_info": {
   "codemirror_mode": {
    "name": "ipython",
    "version": 3
   },
   "file_extension": ".py",
   "mimetype": "text/x-python",
   "name": "python",
   "nbconvert_exporter": "python",
   "pygments_lexer": "ipython3",
   "version": "3.11.5"
  }
 },
 "nbformat": 4,
 "nbformat_minor": 5
}
