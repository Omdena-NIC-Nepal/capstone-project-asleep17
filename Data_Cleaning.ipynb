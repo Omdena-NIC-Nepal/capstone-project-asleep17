{
 "cells": [
  {
   "cell_type": "code",
   "execution_count": 6,
   "id": "2ed888f4-07fc-4e39-91e2-0a1ae18034d7",
   "metadata": {
    "vscode": {
     "languageId": "r"
    }
   },
   "outputs": [],
   "source": [
    "import pandas as pd\n"
   ]
  },
  {
   "cell_type": "code",
   "execution_count": 7,
   "id": "d277c236-d869-4723-b1cc-d8746860084a",
   "metadata": {
    "vscode": {
     "languageId": "r"
    }
   },
   "outputs": [
    {
     "data": {
      "text/html": [
       "<div>\n",
       "<style scoped>\n",
       "    .dataframe tbody tr th:only-of-type {\n",
       "        vertical-align: middle;\n",
       "    }\n",
       "\n",
       "    .dataframe tbody tr th {\n",
       "        vertical-align: top;\n",
       "    }\n",
       "\n",
       "    .dataframe thead th {\n",
       "        text-align: right;\n",
       "    }\n",
       "</style>\n",
       "<table border=\"1\" class=\"dataframe\">\n",
       "  <thead>\n",
       "    <tr style=\"text-align: right;\">\n",
       "      <th></th>\n",
       "      <th>Unnamed: 0</th>\n",
       "      <th>Date</th>\n",
       "      <th>District</th>\n",
       "      <th>Latitude</th>\n",
       "      <th>Longitude</th>\n",
       "      <th>Precip</th>\n",
       "      <th>Pressure</th>\n",
       "      <th>Humidity_2m</th>\n",
       "      <th>RH_2m</th>\n",
       "      <th>Temp_2m</th>\n",
       "      <th>...</th>\n",
       "      <th>TempRange_2m</th>\n",
       "      <th>EarthSkinTemp</th>\n",
       "      <th>WindSpeed_10m</th>\n",
       "      <th>MaxWindSpeed_10m</th>\n",
       "      <th>MinWindSpeed_10m</th>\n",
       "      <th>WindSpeedRange_10m</th>\n",
       "      <th>WindSpeed_50m</th>\n",
       "      <th>MaxWindSpeed_50m</th>\n",
       "      <th>MinWindSpeed_50m</th>\n",
       "      <th>WindSpeedRange_50m</th>\n",
       "    </tr>\n",
       "  </thead>\n",
       "  <tbody>\n",
       "    <tr>\n",
       "      <th>0</th>\n",
       "      <td>0</td>\n",
       "      <td>1981-01-01</td>\n",
       "      <td>Arghakhanchi</td>\n",
       "      <td>27.9</td>\n",
       "      <td>83.2</td>\n",
       "      <td>0.00</td>\n",
       "      <td>93.51</td>\n",
       "      <td>4.81</td>\n",
       "      <td>45.41</td>\n",
       "      <td>13.89</td>\n",
       "      <td>...</td>\n",
       "      <td>10.89</td>\n",
       "      <td>11.32</td>\n",
       "      <td>1.89</td>\n",
       "      <td>3.83</td>\n",
       "      <td>0.69</td>\n",
       "      <td>3.14</td>\n",
       "      <td>2.41</td>\n",
       "      <td>4.12</td>\n",
       "      <td>0.73</td>\n",
       "      <td>3.39</td>\n",
       "    </tr>\n",
       "    <tr>\n",
       "      <th>1</th>\n",
       "      <td>1</td>\n",
       "      <td>1981-01-02</td>\n",
       "      <td>Arghakhanchi</td>\n",
       "      <td>27.9</td>\n",
       "      <td>83.2</td>\n",
       "      <td>0.00</td>\n",
       "      <td>93.59</td>\n",
       "      <td>4.94</td>\n",
       "      <td>46.78</td>\n",
       "      <td>13.84</td>\n",
       "      <td>...</td>\n",
       "      <td>11.17</td>\n",
       "      <td>11.44</td>\n",
       "      <td>1.72</td>\n",
       "      <td>2.60</td>\n",
       "      <td>1.09</td>\n",
       "      <td>1.50</td>\n",
       "      <td>2.25</td>\n",
       "      <td>3.30</td>\n",
       "      <td>0.96</td>\n",
       "      <td>2.34</td>\n",
       "    </tr>\n",
       "    <tr>\n",
       "      <th>2</th>\n",
       "      <td>2</td>\n",
       "      <td>1981-01-03</td>\n",
       "      <td>Arghakhanchi</td>\n",
       "      <td>27.9</td>\n",
       "      <td>83.2</td>\n",
       "      <td>0.03</td>\n",
       "      <td>93.55</td>\n",
       "      <td>5.22</td>\n",
       "      <td>47.91</td>\n",
       "      <td>14.33</td>\n",
       "      <td>...</td>\n",
       "      <td>9.93</td>\n",
       "      <td>12.24</td>\n",
       "      <td>1.80</td>\n",
       "      <td>2.80</td>\n",
       "      <td>0.48</td>\n",
       "      <td>2.32</td>\n",
       "      <td>2.32</td>\n",
       "      <td>3.54</td>\n",
       "      <td>0.39</td>\n",
       "      <td>3.15</td>\n",
       "    </tr>\n",
       "    <tr>\n",
       "      <th>3</th>\n",
       "      <td>3</td>\n",
       "      <td>1981-01-04</td>\n",
       "      <td>Arghakhanchi</td>\n",
       "      <td>27.9</td>\n",
       "      <td>83.2</td>\n",
       "      <td>0.02</td>\n",
       "      <td>93.49</td>\n",
       "      <td>5.36</td>\n",
       "      <td>50.83</td>\n",
       "      <td>13.82</td>\n",
       "      <td>...</td>\n",
       "      <td>10.41</td>\n",
       "      <td>12.17</td>\n",
       "      <td>2.18</td>\n",
       "      <td>3.54</td>\n",
       "      <td>1.06</td>\n",
       "      <td>2.49</td>\n",
       "      <td>2.90</td>\n",
       "      <td>4.05</td>\n",
       "      <td>0.93</td>\n",
       "      <td>3.12</td>\n",
       "    </tr>\n",
       "    <tr>\n",
       "      <th>4</th>\n",
       "      <td>4</td>\n",
       "      <td>1981-01-05</td>\n",
       "      <td>Arghakhanchi</td>\n",
       "      <td>27.9</td>\n",
       "      <td>83.2</td>\n",
       "      <td>1.84</td>\n",
       "      <td>93.49</td>\n",
       "      <td>5.84</td>\n",
       "      <td>55.55</td>\n",
       "      <td>13.76</td>\n",
       "      <td>...</td>\n",
       "      <td>10.53</td>\n",
       "      <td>12.32</td>\n",
       "      <td>1.96</td>\n",
       "      <td>2.70</td>\n",
       "      <td>0.69</td>\n",
       "      <td>2.02</td>\n",
       "      <td>2.74</td>\n",
       "      <td>4.64</td>\n",
       "      <td>0.96</td>\n",
       "      <td>3.68</td>\n",
       "    </tr>\n",
       "  </tbody>\n",
       "</table>\n",
       "<p>5 rows × 23 columns</p>\n",
       "</div>"
      ],
      "text/plain": [
       "   Unnamed: 0       Date      District  Latitude  Longitude  Precip  Pressure  \\\n",
       "0           0 1981-01-01  Arghakhanchi      27.9       83.2    0.00     93.51   \n",
       "1           1 1981-01-02  Arghakhanchi      27.9       83.2    0.00     93.59   \n",
       "2           2 1981-01-03  Arghakhanchi      27.9       83.2    0.03     93.55   \n",
       "3           3 1981-01-04  Arghakhanchi      27.9       83.2    0.02     93.49   \n",
       "4           4 1981-01-05  Arghakhanchi      27.9       83.2    1.84     93.49   \n",
       "\n",
       "   Humidity_2m  RH_2m  Temp_2m  ...  TempRange_2m  EarthSkinTemp  \\\n",
       "0         4.81  45.41    13.89  ...         10.89          11.32   \n",
       "1         4.94  46.78    13.84  ...         11.17          11.44   \n",
       "2         5.22  47.91    14.33  ...          9.93          12.24   \n",
       "3         5.36  50.83    13.82  ...         10.41          12.17   \n",
       "4         5.84  55.55    13.76  ...         10.53          12.32   \n",
       "\n",
       "   WindSpeed_10m  MaxWindSpeed_10m  MinWindSpeed_10m  WindSpeedRange_10m  \\\n",
       "0           1.89              3.83              0.69                3.14   \n",
       "1           1.72              2.60              1.09                1.50   \n",
       "2           1.80              2.80              0.48                2.32   \n",
       "3           2.18              3.54              1.06                2.49   \n",
       "4           1.96              2.70              0.69                2.02   \n",
       "\n",
       "   WindSpeed_50m  MaxWindSpeed_50m  MinWindSpeed_50m  WindSpeedRange_50m  \n",
       "0           2.41              4.12              0.73                3.39  \n",
       "1           2.25              3.30              0.96                2.34  \n",
       "2           2.32              3.54              0.39                3.15  \n",
       "3           2.90              4.05              0.93                3.12  \n",
       "4           2.74              4.64              0.96                3.68  \n",
       "\n",
       "[5 rows x 23 columns]"
      ]
     },
     "execution_count": 7,
     "metadata": {},
     "output_type": "execute_result"
    }
   ],
   "source": [
    "climate_df = pd.read_csv(\"dailyclimate.csv\")\n",
    "climate_df['Date'] = pd.to_datetime(climate_df['Date'])\n",
    "climate_df=climate_df.dropna()\n",
    "climate_df.head()\n"
   ]
  },
  {
   "cell_type": "code",
   "execution_count": null,
   "id": "934f2aed-054e-47dc-99b3-b83b84c42755",
   "metadata": {
    "vscode": {
     "languageId": "r"
    }
   },
   "outputs": [
    {
     "name": "stdout",
     "output_type": "stream",
     "text": [
      "Collecting dbfread\n",
      "  Downloading dbfread-2.0.7-py2.py3-none-any.whl.metadata (3.3 kB)\n",
      "Downloading dbfread-2.0.7-py2.py3-none-any.whl (20 kB)\n",
      "Installing collected packages: dbfread\n",
      "Successfully installed dbfread-2.0.7\n"
     ]
    },
    {
     "name": "stderr",
     "output_type": "stream",
     "text": [
      "WARNING: Ignoring invalid distribution ~ip (C:\\Users\\User\\AppData\\Local\\Programs\\Python\\Python311\\Lib\\site-packages)\n",
      "WARNING: Ignoring invalid distribution ~ip (C:\\Users\\User\\AppData\\Local\\Programs\\Python\\Python311\\Lib\\site-packages)\n",
      "WARNING: Ignoring invalid distribution ~ip (C:\\Users\\User\\AppData\\Local\\Programs\\Python\\Python311\\Lib\\site-packages)\n",
      "\n",
      "[notice] A new release of pip is available: 24.3.1 -> 25.0.1\n",
      "[notice] To update, run: python.exe -m pip install --upgrade pip\n"
     ]
    }
   ],
   "source": [
    "!pip install dbfread\n"
   ]
  },
  {
   "cell_type": "code",
   "execution_count": 8,
   "id": "34c196b2-7988-4ccd-ba83-a1e1147a5ae8",
   "metadata": {
    "vscode": {
     "languageId": "r"
    }
   },
   "outputs": [
    {
     "name": "stdout",
     "output_type": "stream",
     "text": [
      "   VALUE    COUNT       CLASS_NAME\n",
      "0      1  1532495  Inundation Area\n"
     ]
    }
   ],
   "source": [
    "from dbfread import DBF\n",
    "dbf = DBF('raw/flood_data/Flood data of Nepal on Aug 21, 2017/data/np_flood_21_aug.img.vat.dbf')\n",
    "flood_df = pd.DataFrame(iter(dbf))\n",
    "print(flood_df.head())\n"
   ]
  },
  {
   "cell_type": "code",
   "execution_count": 9,
   "id": "6a853c0e-9f9b-4e7d-bb7c-e190bd201a1b",
   "metadata": {
    "vscode": {
     "languageId": "r"
    }
   },
   "outputs": [
    {
     "name": "stdout",
     "output_type": "stream",
     "text": [
      "Flood Area on Aug 21, 2017: 1379.25 km²\n"
     ]
    }
   ],
   "source": [
    "pixel_area_m2 = 30 * 30  # 30m x 30m per pixel\n",
    "total_flood_area_m2 = 1532495 * pixel_area_m2\n",
    "total_flood_area_km2 = total_flood_area_m2 / 1e6\n",
    "\n",
    "print(f\"Flood Area on Aug 21, 2017: {total_flood_area_km2:.2f} km²\")\n"
   ]
  },
  {
   "cell_type": "code",
   "execution_count": 10,
   "id": "567924ae-3d75-4b3c-b45c-58c6e4ba8211",
   "metadata": {
    "vscode": {
     "languageId": "r"
    }
   },
   "outputs": [
    {
     "data": {
      "text/html": [
       "<div>\n",
       "<style scoped>\n",
       "    .dataframe tbody tr th:only-of-type {\n",
       "        vertical-align: middle;\n",
       "    }\n",
       "\n",
       "    .dataframe tbody tr th {\n",
       "        vertical-align: top;\n",
       "    }\n",
       "\n",
       "    .dataframe thead th {\n",
       "        text-align: right;\n",
       "    }\n",
       "</style>\n",
       "<table border=\"1\" class=\"dataframe\">\n",
       "  <thead>\n",
       "    <tr style=\"text-align: right;\">\n",
       "      <th></th>\n",
       "      <th>Basins</th>\n",
       "      <th>Hydrological Feature</th>\n",
       "      <th>Number</th>\n",
       "      <th>Area(sq. km)</th>\n",
       "    </tr>\n",
       "  </thead>\n",
       "  <tbody>\n",
       "    <tr>\n",
       "      <th>0</th>\n",
       "      <td>Koshi</td>\n",
       "      <td>Glaciers</td>\n",
       "      <td>845</td>\n",
       "      <td>1,103</td>\n",
       "    </tr>\n",
       "    <tr>\n",
       "      <th>1</th>\n",
       "      <td>Gandaki</td>\n",
       "      <td>Glaciers</td>\n",
       "      <td>1,340</td>\n",
       "      <td>1,665</td>\n",
       "    </tr>\n",
       "    <tr>\n",
       "      <th>2</th>\n",
       "      <td>Karnali</td>\n",
       "      <td>Glaciers</td>\n",
       "      <td>1,459</td>\n",
       "      <td>1,023</td>\n",
       "    </tr>\n",
       "    <tr>\n",
       "      <th>3</th>\n",
       "      <td>Mahakali</td>\n",
       "      <td>Glaciers</td>\n",
       "      <td>164</td>\n",
       "      <td>112.5</td>\n",
       "    </tr>\n",
       "    <tr>\n",
       "      <th>4</th>\n",
       "      <td>Koshi</td>\n",
       "      <td>Glacial Lakes</td>\n",
       "      <td>599</td>\n",
       "      <td>26</td>\n",
       "    </tr>\n",
       "  </tbody>\n",
       "</table>\n",
       "</div>"
      ],
      "text/plain": [
       "     Basins Hydrological Feature Number Area(sq. km)\n",
       "0     Koshi             Glaciers    845        1,103\n",
       "1   Gandaki             Glaciers  1,340        1,665\n",
       "2   Karnali             Glaciers  1,459        1,023\n",
       "3  Mahakali             Glaciers    164        112.5\n",
       "4     Koshi        Glacial Lakes    599           26"
      ]
     },
     "execution_count": 10,
     "metadata": {},
     "output_type": "execute_result"
    }
   ],
   "source": [
    "glacier_data = pd.read_csv(\"raw/glacier_and_river_data/glaciers-glacial-lakes-and-major-river-basins.csv\")\n",
    "glacier_data.head()"
   ]
  },
  {
   "cell_type": "code",
   "execution_count": 11,
   "id": "8e074b7b-d709-4a34-b3ae-f2455e489459",
   "metadata": {
    "vscode": {
     "languageId": "r"
    }
   },
   "outputs": [
    {
     "data": {
      "text/html": [
       "<div>\n",
       "<style scoped>\n",
       "    .dataframe tbody tr th:only-of-type {\n",
       "        vertical-align: middle;\n",
       "    }\n",
       "\n",
       "    .dataframe tbody tr th {\n",
       "        vertical-align: top;\n",
       "    }\n",
       "\n",
       "    .dataframe thead th {\n",
       "        text-align: right;\n",
       "    }\n",
       "</style>\n",
       "<table border=\"1\" class=\"dataframe\">\n",
       "  <thead>\n",
       "    <tr style=\"text-align: right;\">\n",
       "      <th></th>\n",
       "      <th>River</th>\n",
       "      <th>Length(km)</th>\n",
       "      <th>River Attribute</th>\n",
       "      <th>Value</th>\n",
       "    </tr>\n",
       "  </thead>\n",
       "  <tbody>\n",
       "    <tr>\n",
       "      <th>0</th>\n",
       "      <td>Mahakali</td>\n",
       "      <td>223.0</td>\n",
       "      <td>Drainage Area (km²) - Total</td>\n",
       "      <td>15260</td>\n",
       "    </tr>\n",
       "    <tr>\n",
       "      <th>1</th>\n",
       "      <td>Karnali</td>\n",
       "      <td>507.0</td>\n",
       "      <td>Drainage Area (km²) - Total</td>\n",
       "      <td>44000</td>\n",
       "    </tr>\n",
       "    <tr>\n",
       "      <th>2</th>\n",
       "      <td>Babai</td>\n",
       "      <td>190.0</td>\n",
       "      <td>Drainage Area (km²) - Total</td>\n",
       "      <td>3400</td>\n",
       "    </tr>\n",
       "    <tr>\n",
       "      <th>3</th>\n",
       "      <td>West Rapti</td>\n",
       "      <td>257.0</td>\n",
       "      <td>Drainage Area (km²) - Total</td>\n",
       "      <td>6500</td>\n",
       "    </tr>\n",
       "    <tr>\n",
       "      <th>4</th>\n",
       "      <td>Narayani</td>\n",
       "      <td>332.0</td>\n",
       "      <td>Drainage Area (km²) - Total</td>\n",
       "      <td>34960</td>\n",
       "    </tr>\n",
       "  </tbody>\n",
       "</table>\n",
       "</div>"
      ],
      "text/plain": [
       "        River  Length(km)              River Attribute  Value\n",
       "0    Mahakali       223.0  Drainage Area (km²) - Total  15260\n",
       "1     Karnali       507.0  Drainage Area (km²) - Total  44000\n",
       "2       Babai       190.0  Drainage Area (km²) - Total   3400\n",
       "3  West Rapti       257.0  Drainage Area (km²) - Total   6500\n",
       "4    Narayani       332.0  Drainage Area (km²) - Total  34960"
      ]
     },
     "execution_count": 11,
     "metadata": {},
     "output_type": "execute_result"
    }
   ],
   "source": [
    "rivers_df = pd.read_csv(\"raw/glacier_and_river_data/major-rivers-in-nepal.csv\")\n",
    "rivers_df.head()"
   ]
  },
  {
   "cell_type": "code",
   "execution_count": null,
   "id": "bea51a5d-690d-41ad-9c3d-a03dcd4fb2bc",
   "metadata": {
    "vscode": {
     "languageId": "r"
    }
   },
   "outputs": [],
   "source": [
    "climate_df.to_csv(\"climate_daily_cleaned.csv\", index=False)\n"
   ]
  },
  {
   "cell_type": "code",
   "execution_count": null,
   "id": "e7bbac6a",
   "metadata": {
    "vscode": {
     "languageId": "r"
    }
   },
   "outputs": [],
   "source": []
  },
  {
   "cell_type": "code",
   "execution_count": null,
   "id": "208be9bd-7646-41b6-93ca-887a8a32cd24",
   "metadata": {},
   "outputs": [],
   "source": []
  }
 ],
 "metadata": {
  "kernelspec": {
   "display_name": "Python 3 (ipykernel)",
   "language": "python",
   "name": "python3"
  },
  "language_info": {
   "codemirror_mode": {
    "name": "ipython",
    "version": 3
   },
   "file_extension": ".py",
   "mimetype": "text/x-python",
   "name": "python",
   "nbconvert_exporter": "python",
   "pygments_lexer": "ipython3",
   "version": "3.11.5"
  }
 },
 "nbformat": 4,
 "nbformat_minor": 5
}
